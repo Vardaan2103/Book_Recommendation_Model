{
 "cells": [
  {
   "cell_type": "code",
   "execution_count": null,
   "id": "cc671d3f",
   "metadata": {},
   "outputs": [],
   "source": [
    "import pandas as pd\n",
    "import numpy as np\n",
    "import matplotlib.pyplot as plt\n",
    "import seaborn as sns\n",
    "from collections import *\n",
    "import pickle\n",
    "import webbrowser"
   ]
  },
  {
   "cell_type": "code",
   "execution_count": null,
   "id": "61d8fac3",
   "metadata": {},
   "outputs": [],
   "source": [
    "# Importing the dataset\n",
    "\n",
    "books = pd.read_csv('Books.csv')\n",
    "ratings = pd.read_csv('Ratings.csv')\n",
    "users = pd.read_csv('Users.csv')\n",
    "\n",
    "books.dropna(inplace=True)"
   ]
  },
  {
   "cell_type": "markdown",
   "id": "1449e1ce-df91-48f5-9965-c12c04a6705e",
   "metadata": {},
   "source": [
    "# Models Popularity Based Approach \n",
    "\n",
    "weighted rating (WR) = (v ÷ (v+m)) × R + (m ÷ (v+m)) × C where:\n",
    "\n",
    "R = average for the movie (mean) v = number of votes for the movie m = minimum votes required to be listed in the Top 250 C = the mean vote across the whole report "
   ]
  },
  {
   "cell_type": "code",
   "execution_count": null,
   "id": "832e8ada-2055-4723-85ea-05f5e5dba42a",
   "metadata": {},
   "outputs": [],
   "source": [
    "# removing all the books whose ISBN is not 10 digits long\n",
    "\n",
    "books = books[books[\"ISBN\"].apply(lambda x: len(x) == 10)]\n",
    "\n",
    "unique_ISBN = set(books[\"ISBN\"].unique())\n",
    "\n",
    "# removing all the ISBNs that are not in the books dataset\n",
    "\n",
    "ratings = ratings[ratings[\"ISBN\"].isin(unique_ISBN)]\n",
    "\n",
    "# removing all the users who rated 0 to books\n",
    "\n",
    "ratings = ratings[ratings[\"bookRating\"] != 0]"
   ]
  },
  {
   "cell_type": "code",
   "execution_count": null,
   "id": "4d161bd6",
   "metadata": {},
   "outputs": [],
   "source": [
    "\n",
    "# makeing a dataframe which stores the avg rating of a book and also the number of ratings it has got\n",
    "\n",
    "avg_rating = pd.DataFrame()\n",
    "avg_rating[\"ISBN\"] = ratings.groupby(\"ISBN\")[\"bookRating\"].mean().index\n",
    "avg_rating[\"avg_rating\"] = ratings.groupby(\"ISBN\")[\"bookRating\"].mean().values\n",
    "avg_rating[\"num_ratings\"] = ratings.groupby(\"ISBN\")[\"bookRating\"].count().values\n",
    "\n",
    "avg_rating.reset_index(inplace=True)\n",
    "\n",
    "\n",
    "avg_rating.sort_values(\"num_ratings\", ascending=False)\n",
    "# sum(avg_rating[\"num_ratings\"])"
   ]
  },
  {
   "cell_type": "code",
   "execution_count": null,
   "id": "8b3aa0ec",
   "metadata": {},
   "outputs": [],
   "source": [
    "\n",
    "# weighted rating (WR) = (v ÷ (v+m)) × R + (m ÷ (v+m)) × C\n",
    "# where:\n",
    "\n",
    "# R = average for the movie (mean)\n",
    "# v = number of votes for the movie\n",
    "# m = minimum votes required to be listed in the Top 250 \n",
    "# C = the mean vote across the whole report\n",
    "\n",
    "m = avg_rating[\"num_ratings\"].quantile(0.99) # top 150 books\n",
    "C = ratings[\"bookRating\"].mean()\n",
    "\n",
    "def weighted_rating(x, m = m, C=C):\n",
    "    v = x[\"num_ratings\"]\n",
    "    R = x[\"avg_rating\"]\n",
    "    return (v/(v+m) * R) + (m/(m+v) * C)\n",
    "\n",
    "\n",
    "avg_rating[\"weighted_rating\"] = avg_rating.apply(weighted_rating, axis=1)"
   ]
  },
  {
   "cell_type": "code",
   "execution_count": null,
   "id": "214fbe11",
   "metadata": {},
   "outputs": [],
   "source": [
    "avg_rating.sort_values(\"weighted_rating\", ascending=False,inplace=True)\n",
    "avg_rating.drop([\"index\"], axis=1, inplace=True)"
   ]
  },
  {
   "cell_type": "code",
   "execution_count": null,
   "id": "904d604b",
   "metadata": {},
   "outputs": [],
   "source": [
    "avg_rating.head(10)"
   ]
  },
  {
   "cell_type": "code",
   "execution_count": null,
   "id": "eea6a673",
   "metadata": {},
   "outputs": [],
   "source": [
    "avg_rating.to_csv(\"avg_rating.csv\", index=False)"
   ]
  },
  {
   "cell_type": "markdown",
   "id": "8defa5c3",
   "metadata": {},
   "source": [
    "\n",
    "book covers of top rated books according to the model"
   ]
  },
  {
   "cell_type": "code",
   "execution_count": null,
   "id": "cce6e456",
   "metadata": {},
   "outputs": [],
   "source": [
    "l = avg_rating.sort_values(\"weighted_rating\", ascending=False).head(10)[\"ISBN\"].values"
   ]
  },
  {
   "cell_type": "code",
   "execution_count": null,
   "id": "58e0f062",
   "metadata": {},
   "outputs": [],
   "source": [
    "#show image of the book cover\n",
    "\n",
    "from IPython.display import Image\n",
    "\n",
    "for i in l:\n",
    "    display(Image(url=books[books[\"ISBN\"] == i][\"imageURLM\"].values[0]))\n",
    "    print(books[books[\"ISBN\"] == i][\"bookTitle\"].values[0])"
   ]
  },
  {
   "cell_type": "markdown",
   "id": "bb683477-a2ee-452b-a2ee-7d0cac69805b",
   "metadata": {},
   "source": [
    "# Collaborative Filtering A recommendation technique that leverages users' collective behavior and preferences to make personalized recommendations.\n",
    "\n",
    "Steps involved in collaborative filtering:\n",
    "\n",
    "Data representation: Create a table with users as rows and items (ISBNs) as columns to capture user-item interactions or ratings.\n",
    "\n",
    "Standardization: Normalize the ratings within each user to remove biases and bring them to a common scale.\n",
    "\n",
    "Similarity calculation: Compute item-item similarity using metrics like cosine similarity based on user ratings or interactions.\n",
    "\n",
    "Recommendation generation: Find the most similar items to a given item and recommend them to users interacting with the original item.\n",
    "\n",
    "Collaborative filtering taps into the idea that users with similar tastes for certain items are likely to have similar tastes for others, providing personalized recommendations based on user behavior and preferences."
   ]
  },
  {
   "cell_type": "code",
   "execution_count": null,
   "id": "8b29af81",
   "metadata": {},
   "outputs": [],
   "source": [
    "# list of top 600 books according to no. of people who rated it\n",
    "top_600 = avg_rating.sort_values(\"num_ratings\", ascending=False).head(1000)[\"ISBN\"].values"
   ]
  },
  {
   "cell_type": "code",
   "execution_count": null,
   "id": "10a82017",
   "metadata": {},
   "outputs": [],
   "source": [
    "top_600 = set(top_600)\n",
    "\n",
    "# removing all the books that are not in the top 600\n",
    "\n",
    "new_ratings = ratings[ratings[\"ISBN\"].isin(top_600)]"
   ]
  },
  {
   "cell_type": "code",
   "execution_count": null,
   "id": "3ddf1119",
   "metadata": {},
   "outputs": [],
   "source": [
    "# make a dataframe in which the index is ISBN and the columns are the userIDs and the values are the ratings given by the user\n",
    "\n",
    "new_ratings = new_ratings.pivot(index=\"User-ID\", columns=\"ISBN\", values=\"bookRating\")"
   ]
  },
  {
   "cell_type": "code",
   "execution_count": null,
   "id": "9a3e67a2",
   "metadata": {},
   "outputs": [],
   "source": [
    "new_ratings.fillna(0, inplace=True)"
   ]
  },
  {
   "cell_type": "code",
   "execution_count": null,
   "id": "9eabcbd4",
   "metadata": {},
   "outputs": [],
   "source": [
    "new_ratings.head()"
   ]
  },
  {
   "cell_type": "code",
   "execution_count": null,
   "id": "b220eed1",
   "metadata": {},
   "outputs": [],
   "source": [
    "# standardizing the ratings so that the mean of each row is 0 and the values are between -1 and 1\n",
    "\n",
    "def standardize(row):\n",
    "    new_row = (row - row.mean())/(row.max() - row.min())\n",
    "    return new_row\n",
    "\n",
    "new_ratings = new_ratings.apply(standardize)"
   ]
  },
  {
   "cell_type": "code",
   "execution_count": null,
   "id": "a1016d00",
   "metadata": {},
   "outputs": [],
   "source": [
    "new_ratings"
   ]
  },
  {
   "cell_type": "code",
   "execution_count": null,
   "id": "3f99e102",
   "metadata": {},
   "outputs": [],
   "source": [
    "from sklearn.metrics.pairwise import cosine_similarity\n",
    "# making a matrix in which the index and columns are the ISBNs and the values are the similarity between the two books\n",
    "\n",
    "item_similarity = cosine_similarity(new_ratings.T)  # .T is used to transpose the matrix because we want the similarity between the ISBNs and not the users."
   ]
  },
  {
   "cell_type": "code",
   "execution_count": null,
   "id": "13dc089b",
   "metadata": {},
   "outputs": [],
   "source": [
    "item_similarity_df = pd.DataFrame(item_similarity, index=new_ratings.columns, columns=new_ratings.columns)\n",
    "item_similarity_df.head()"
   ]
  },
  {
   "cell_type": "code",
   "execution_count": null,
   "id": "4526aa9a",
   "metadata": {},
   "outputs": [],
   "source": [
    "def get_similar_books(book_code, user_rating):\n",
    "    similar_score = item_similarity_df[book_code]*(user_rating-5)\n",
    "    similar_score = similar_score.sort_values(ascending=False)\n",
    "    return similar_score"
   ]
  },
  {
   "cell_type": "code",
   "execution_count": null,
   "id": "5345b854",
   "metadata": {},
   "outputs": [],
   "source": [
    "def get_recommendations(book_ratings):\n",
    "    recommendations = pd.Series()  # Empty Series to store the recommendations\n",
    "    \n",
    "    for book, rating in book_ratings.items():\n",
    "        similar_scores = item_similarity_df[book] * (rating - 5)\n",
    "        similar_scores = similar_scores.sort_values(ascending=False)\n",
    "        recommendations = pd.concat([recommendations, similar_scores])\n",
    "        \n",
    "    recommendations = recommendations.groupby(recommendations.index).sum()\n",
    "    recommendations = recommendations.sort_values(ascending=False)\n",
    "    \n",
    "    l = []\n",
    "    for i in recommendations.index:\n",
    "        if i not in book_ratings.keys():\n",
    "            l.append(i)\n",
    "        if len(l)==10:\n",
    "            break\n",
    "\n",
    "    return l"
   ]
  },
  {
   "cell_type": "code",
   "execution_count": null,
   "id": "b9cbec1f",
   "metadata": {},
   "outputs": [],
   "source": [
    "d = {\n",
    "    \"059035342X\": 9,\n",
    "    \"0345370775\": 10,\n",
    "    \"044021145X\": 8,\n",
    "    \"0440214041\": 10,\n",
    "    \"0440211727\": 7,\n",
    "}\n",
    "\n",
    "for i in d:\n",
    "    display(Image(url=books[books[\"ISBN\"] == i][\"imageURLM\"].values[0]))\n",
    "    print(books[books[\"ISBN\"] == i][\"bookTitle\"].values[0])\n",
    "\n",
    "print(\"-------------------------------------------\")\n",
    "l = get_recommendations(d)\n",
    "\n",
    "for i in l:\n",
    "    display(Image(url=books[books[\"ISBN\"] == i][\"imageURLM\"].values[0]))\n",
    "    print(books[books[\"ISBN\"] == i][\"bookTitle\"].values[0])"
   ]
  },
  {
   "cell_type": "code",
   "execution_count": null,
   "id": "4b27fef7",
   "metadata": {},
   "outputs": [],
   "source": [
    "# making a text file in which write the names of 600 books that we have used\n",
    "\n",
    "f = open(\"books.txt\", \"w\")\n",
    "for i in top_600:\n",
    "    name = books[books[\"ISBN\"] == i][\"bookTitle\"].values[0]\n",
    "    f.write(name+\" \"+i)\n",
    "    f.write(\"\\n\")\n",
    "f.close()"
   ]
  },
  {
   "cell_type": "code",
   "execution_count": null,
   "id": "de06540f",
   "metadata": {},
   "outputs": [],
   "source": [
    "with open('books.txt', 'r') as f:\n",
    "    data = f.read()"
   ]
  },
  {
   "cell_type": "code",
   "execution_count": null,
   "id": "65dd820a",
   "metadata": {},
   "outputs": [],
   "source": [
    "data"
   ]
  },
  {
   "cell_type": "code",
   "execution_count": null,
   "id": "27d767dd",
   "metadata": {},
   "outputs": [],
   "source": [
    "\n",
    "# ratings by (my dear friend)\n",
    "\n",
    "d = {\n",
    "    \"0439139597\": 7,\n",
    "    \"0345391802\": 8,\n",
    "    \"0590353403\": 6,\n",
    "    \"0439064864\": 3,\n",
    "    \"0316769487\": 8,\n",
    "    \"0439136350\": 5,\n",
    "    \"059035342X\": 8,\n",
    "    \"0684801523\": 10,\n",
    "    \"0439136369\": 5,\n",
    "    \"043935806X\": 4,\n",
    "    \"0439064872\": 3,\n",
    "    \"0804111359\": 9,\n",
    "    \"0451526341\": 9,\n",
    "    \"0156628708\": 9,\n",
    "    \"0451524934\": 7\n",
    "}\n",
    "\n",
    "for i in d:\n",
    "    display(Image(url=books[books[\"ISBN\"] == i][\"imageURLM\"].values[0]))\n",
    "    print(books[books[\"ISBN\"] == i][\"bookTitle\"].values[0])"
   ]
  },
  {
   "cell_type": "code",
   "execution_count": null,
   "id": "de219ca1",
   "metadata": {},
   "outputs": [],
   "source": [
    "Image(url=books[books[\"ISBN\"] == i][\"imageURLM\"].values[0])"
   ]
  },
  {
   "cell_type": "code",
   "execution_count": null,
   "id": "23358f2c",
   "metadata": {},
   "outputs": [],
   "source": [
    "l = get_recommendations(d)\n",
    "\n",
    "for i in l:\n",
    "    display(Image(url=books[books[\"ISBN\"] == i][\"imageURLM\"].values[0]))\n",
    "    print(books[books[\"ISBN\"] == i][\"bookTitle\"].values[0])\n",
    "\n",
    "# Samyak was satisfied with the recommendations"
   ]
  },
  {
   "cell_type": "code",
   "execution_count": null,
   "id": "efafb5d8",
   "metadata": {},
   "outputs": [],
   "source": [
    "# make a pickle file in which we store the item_similarity_df\n",
    "\n",
    "import pickle\n",
    "\n",
    "pickle.dump(item_similarity_df, open(\"item_similarity_df.pkl\", \"wb\"))"
   ]
  },
  {
   "cell_type": "markdown",
   "id": "bb8ddd98",
   "metadata": {},
   "source": [
    "# Content Based Recommendations\n",
    "Created a numpy array called main_matrix with dimensions (50000, 900) to represent ratings for each book across 900 unique genres.\n",
    "\n",
    "Populated main_matrix by assigning average ratings to the corresponding positions based on the book's genres.\n",
    "\n",
    "Defined the get_recommendations(s) function to generate book recommendations based on the user's genre preferences.\n",
    "\n",
    "Initialized a numpy array called like (shape: (900,)) with zeros to represent the user's genre preferences.\n",
    "\n",
    "Calculated recommendation scores by performing matrix multiplication between main_matrix and like.\n",
    "\n",
    "Sorted the recommendation scores and obtained the top 5 book recommendations based on the highest scores.\n",
    "\n",
    "Printed the titles of the top 5 recommended books from the original dataset."
   ]
  },
  {
   "cell_type": "code",
   "execution_count": null,
   "id": "2bedf395",
   "metadata": {},
   "outputs": [],
   "source": [
    "data = pd.read_csv(\"books_1.Best_Books_Ever.csv\")\n",
    "data\n",
    "l=[]\n",
    "df = data[[\"isbn\",\"genres\",\"rating\"]]\n",
    "df[\"genres\"] = df[\"genres\"].apply(eval)\n",
    "df[\"genres\"][0]\n",
    "s = set()\n",
    "for i in df[\"genres\"]:\n",
    "    for j in i:\n",
    "        s.add(j)\n",
    "with open(\"genres_order.txt\", \"w\", encoding=\"utf-8\") as f:\n",
    "    d = defaultdict(int)\n",
    "    j = 0\n",
    "\n",
    "    for i in s:\n",
    "        d[i] = j\n",
    "        f.write(i + \"\\n\")\n",
    "        j += 1\n",
    "    f.close()\n",
    "df\n",
    "main_matrix = np.zeros((52478, 982))\n",
    "for i in range(len(df)):\n",
    "    for j in df[\"genres\"][i]:\n",
    "        main_matrix[i][d[j]] = df[\"rating\"][i]\n",
    "def get_recommendations(s):\n",
    "    like = np.zeros((982,))\n",
    "    for i in s:\n",
    "        like[d[i]] = 1\n",
    "    \n",
    "    ans = np.dot(main_matrix, like)\n",
    "    \n",
    "    for i in range(len(ans)):\n",
    "        l.append((ans[i], i))\n",
    "    l.sort(reverse=True)\n",
    "\n",
    "    for i in l[:5]:\n",
    "        print(data.loc[i[1], \"title\"])\n",
    "    return l    \n",
    "\n",
    "get_recommendations([\"Fiction\", \"Romance\", \"Magic\",\"Vampires\",\"Action\"])\n",
    "with open('genre_matrix.pkl', 'wb') as file:\n",
    "    pickle.dump(main_matrix, file)\n",
    "with open(\"booktitle_chatbot.txt\",\"w\",encoding=\"utf-8\") as file:\n",
    "    for i in data[\"title\"]:\n",
    "        file.write(i + \"\\n\")\n",
    "        \n",
    "    "
   ]
  },
  {
   "cell_type": "code",
   "execution_count": null,
   "id": "744dea81",
   "metadata": {},
   "outputs": [],
   "source": [
    "for i in l[:5]:\n",
    "        print(data.loc[i[1], \"coverImg\"])"
   ]
  },
  {
   "cell_type": "code",
   "execution_count": null,
   "id": "1b9cefca",
   "metadata": {},
   "outputs": [],
   "source": [
    "list_genere = [x for x in input().split(\",\")]\n",
    "rec_books=pd.read_csv(\"books_1.Best_Books_Ever.csv\")\n",
    "\n",
    "list_recomm = []\n",
    "\n",
    "get_recommendations(list_genere)\n",
    "with open('genre_matrix.pkl', 'wb') as file:\n",
    "    pickle.dump(main_matrix, file)\n",
    "with open(\"booktitle_chatbot.txt\",\"w\",encoding=\"utf-8\") as file:\n",
    "    for i in data[\"title\"]:\n",
    "        file.write(i + \"\\n\")\n",
    "        list_recomm.append(i)"
   ]
  },
  {
   "cell_type": "code",
   "execution_count": null,
   "id": "cd73acd1-ddf2-44fc-9fc3-115e3c4dacee",
   "metadata": {},
   "outputs": [],
   "source": [
    "list_recomm"
   ]
  },
  {
   "cell_type": "code",
   "execution_count": null,
   "id": "09e96016",
   "metadata": {},
   "outputs": [],
   "source": [
    "rec_books=pd.read_csv(\"books_1.Best_Books_Ever.csv\")\n",
    "list_url=[]\n",
    "for i in list_recomm:\n",
    "    image_url = rec_books[rec_books[\"title\"] == i][\"coverImg\"].values[0]\n",
    "    list_url.append(image_url)"
   ]
  },
  {
   "cell_type": "code",
   "execution_count": null,
   "id": "bbc793f6",
   "metadata": {},
   "outputs": [],
   "source": [
    "list_url"
   ]
  },
  {
   "cell_type": "code",
   "execution_count": null,
   "id": "18536768",
   "metadata": {},
   "outputs": [],
   "source": [
    "rec_books=pd.read_csv(\"books_1.Best_Books_Ever.csv\")\n",
    "image_url = rec_books[rec_books[\"title\"] == \"Harry Potter and the Goblet of Fire\"][\"coverImg\"].values[0]\n",
    "Image(image_url)"
   ]
  }
 ],
 "metadata": {
  "kernelspec": {
   "display_name": "Python 3 (ipykernel)",
   "language": "python",
   "name": "python3"
  },
  "language_info": {
   "codemirror_mode": {
    "name": "ipython",
    "version": 3
   },
   "file_extension": ".py",
   "mimetype": "text/x-python",
   "name": "python",
   "nbconvert_exporter": "python",
   "pygments_lexer": "ipython3",
   "version": "3.11.7"
  }
 },
 "nbformat": 4,
 "nbformat_minor": 5
}
